{
  "nbformat": 4,
  "nbformat_minor": 0,
  "metadata": {
    "colab": {
      "provenance": [],
      "authorship_tag": "ABX9TyNYnsS57dbrbXJdaNqiAv6E",
      "include_colab_link": true
    },
    "kernelspec": {
      "name": "python3",
      "display_name": "Python 3"
    },
    "language_info": {
      "name": "python"
    }
  },
  "cells": [
    {
      "cell_type": "markdown",
      "metadata": {
        "id": "view-in-github",
        "colab_type": "text"
      },
      "source": [
        "<a href=\"https://colab.research.google.com/github/haya73/ajax_app/blob/master/chatbot.ipynb\" target=\"_parent\"><img src=\"https://colab.research.google.com/assets/colab-badge.svg\" alt=\"Open In Colab\"/></a>"
      ]
    },
    {
      "cell_type": "code",
      "source": [
        "!pip install openai==0.28"
      ],
      "metadata": {
        "colab": {
          "base_uri": "https://localhost:8080/"
        },
        "id": "eCleHGc4f5wK",
        "outputId": "e13552be-6533-49d1-c1de-ef4ab889fafd"
      },
      "execution_count": 2,
      "outputs": [
        {
          "output_type": "stream",
          "name": "stdout",
          "text": [
            "Collecting openai==0.28\n",
            "  Downloading openai-0.28.0-py3-none-any.whl (76 kB)\n",
            "\u001b[?25l     \u001b[90m━━━━━━━━━━━━━━━━━━━━━━━━━━━━━━━━━━━━━━━━\u001b[0m \u001b[32m0.0/76.5 kB\u001b[0m \u001b[31m?\u001b[0m eta \u001b[36m-:--:--\u001b[0m\r\u001b[2K     \u001b[90m━━━━━━━━━━━━━━━━━━━━━━━━━━━━━━━━━━━━━━━━\u001b[0m \u001b[32m76.5/76.5 kB\u001b[0m \u001b[31m2.3 MB/s\u001b[0m eta \u001b[36m0:00:00\u001b[0m\n",
            "\u001b[?25hRequirement already satisfied: requests>=2.20 in /usr/local/lib/python3.10/dist-packages (from openai==0.28) (2.31.0)\n",
            "Requirement already satisfied: tqdm in /usr/local/lib/python3.10/dist-packages (from openai==0.28) (4.66.2)\n",
            "Requirement already satisfied: aiohttp in /usr/local/lib/python3.10/dist-packages (from openai==0.28) (3.9.3)\n",
            "Requirement already satisfied: charset-normalizer<4,>=2 in /usr/local/lib/python3.10/dist-packages (from requests>=2.20->openai==0.28) (3.3.2)\n",
            "Requirement already satisfied: idna<4,>=2.5 in /usr/local/lib/python3.10/dist-packages (from requests>=2.20->openai==0.28) (3.6)\n",
            "Requirement already satisfied: urllib3<3,>=1.21.1 in /usr/local/lib/python3.10/dist-packages (from requests>=2.20->openai==0.28) (2.0.7)\n",
            "Requirement already satisfied: certifi>=2017.4.17 in /usr/local/lib/python3.10/dist-packages (from requests>=2.20->openai==0.28) (2024.2.2)\n",
            "Requirement already satisfied: aiosignal>=1.1.2 in /usr/local/lib/python3.10/dist-packages (from aiohttp->openai==0.28) (1.3.1)\n",
            "Requirement already satisfied: attrs>=17.3.0 in /usr/local/lib/python3.10/dist-packages (from aiohttp->openai==0.28) (23.2.0)\n",
            "Requirement already satisfied: frozenlist>=1.1.1 in /usr/local/lib/python3.10/dist-packages (from aiohttp->openai==0.28) (1.4.1)\n",
            "Requirement already satisfied: multidict<7.0,>=4.5 in /usr/local/lib/python3.10/dist-packages (from aiohttp->openai==0.28) (6.0.5)\n",
            "Requirement already satisfied: yarl<2.0,>=1.0 in /usr/local/lib/python3.10/dist-packages (from aiohttp->openai==0.28) (1.9.4)\n",
            "Requirement already satisfied: async-timeout<5.0,>=4.0 in /usr/local/lib/python3.10/dist-packages (from aiohttp->openai==0.28) (4.0.3)\n",
            "Installing collected packages: openai\n",
            "Successfully installed openai-0.28.0\n"
          ]
        }
      ]
    },
    {
      "cell_type": "code",
      "source": [
        "# ライブラリの呼び出し\n",
        "import openai\n",
        "\n",
        "# APIキーの設定\n",
        "openai.api_key =  'sk-'\n",
        "\n",
        "# 前提情報\n",
        "system_message = 'アシスタントは荷物の配達サービスの問い合わせ窓口です。\\\n",
        "配達の時間は注文から3営業日以内、平日10-19時です。\\\n",
        "配達の方法には直接受け渡し、玄関への置き配、コンビニ受け取りの三つがあります。'\n",
        "\n",
        "# 質問テンプレート\n",
        "template = 'これから荷物の配達サービスに関する質問を行います。\\\n",
        "質問に対する回答は50文字以内で生成してください。\\\n",
        "もし質問の内容が荷物の配達時間、配達方法と関係ない場合は配達サービスの問い合わせ窓口であるためその他の質問に答えられない旨を回答してください。\\\n",
        "以下が質問内容になります。\\\n",
        "'\n",
        "\n",
        "print(\"アシスタント：質問内容を入力してください\")\n",
        "\n",
        "# 会話の履歴を保存する配列を作成\n",
        "messages = [{\"role\": \"system\", \"content\": system_message}]\n",
        "\n",
        "while True:\n",
        "  # 質問を入力\n",
        "  user_message = input(\"質問内容>>\")\n",
        "\n",
        "  # 処理を終了\n",
        "  if user_message == \"終了\":\n",
        "    break\n",
        "\n",
        "  # 会話の履歴を削除\n",
        "  if user_message == \"リセット\":\n",
        "    messages = [{\"role\": \"system\", \"content\": system_message}]\n",
        "    continue\n",
        "\n",
        "\n",
        "  #質問を配列に追加\n",
        "  messages.append({\"role\": \"user\", \"content\": template + user_message})\n",
        "\n",
        "  # GPTによる回答の生成\n",
        "  response = openai.ChatCompletion.create(\n",
        "    model=\"gpt-3.5-turbo\",\n",
        "    messages=messages\n",
        "  )\n",
        "\n",
        "  # GPTからの回答を変数に保存\n",
        "  assistant_message = response[\"choices\"][0][\"message\"][\"content\"]\n",
        "\n",
        "  # GPTからの回答を出力\n",
        "  print(\"アシスタント:\"+assistant_message)\n",
        "\n",
        "  # 回答をmessagesに追加\n",
        "  messages.append({\"role\": \"assistant\", \"content\": assistant_message})"
      ],
      "metadata": {
        "colab": {
          "base_uri": "https://localhost:8080/"
        },
        "id": "SRBN1zFlkz0_",
        "outputId": "0bfadf61-1629-4dca-bb84-c1a0a450cd2c"
      },
      "execution_count": null,
      "outputs": [
        {
          "output_type": "stream",
          "name": "stdout",
          "text": [
            "アシスタント：質問内容を入力してください\n",
            "質問内容>>リセット\n",
            "質問内容>>こんにちは\n",
            "アシスタント:こんにちは！荷物の配達サービスの問い合わせ窓口です。配達時間は注文から3営業日以内、平日10-19時です。配達方法は直接受け渡し、玄関への置き配、コンビニ受け取りのいずれかをお選びいただけます。他にお困りのことがあればお知らせください。\n"
          ]
        }
      ]
    },
    {
      "cell_type": "code",
      "source": [],
      "metadata": {
        "id": "ClHOTD_pt53H"
      },
      "execution_count": null,
      "outputs": []
    }
  ]
}